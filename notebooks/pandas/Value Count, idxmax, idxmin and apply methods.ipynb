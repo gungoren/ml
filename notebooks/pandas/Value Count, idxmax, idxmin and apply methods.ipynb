{
 "cells": [
  {
   "cell_type": "markdown",
   "metadata": {},
   "source": [
    "### value_count(), idxmax(), idxmin() and apply functions"
   ]
  },
  {
   "cell_type": "code",
   "execution_count": 1,
   "metadata": {},
   "outputs": [],
   "source": [
    "import pandas as pd"
   ]
  },
  {
   "cell_type": "code",
   "execution_count": 3,
   "metadata": {},
   "outputs": [
    {
     "data": {
      "text/plain": [
       "0     Kuzey Amerika\n",
       "1              Asya\n",
       "2              Asya\n",
       "3            Avrupa\n",
       "4            Avrupa\n",
       "5            Avrupa\n",
       "6              Asya\n",
       "7            Avrupa\n",
       "8     Güney Amerika\n",
       "9     Kuzey Amerika\n",
       "10           Avrupa\n",
       "11             Asya\n",
       "12           Avrupa\n",
       "13        Okyanusya\n",
       "14    Kuzey Amerika\n",
       "15             Asya\n",
       "16           Avrupa\n",
       "17             Asya\n",
       "18             Asya\n",
       "19           Avrupa\n",
       "Name: KITA, dtype: object"
      ]
     },
     "execution_count": 3,
     "metadata": {},
     "output_type": "execute_result"
    }
   ],
   "source": [
    "continents = pd.read_csv(\"../../data/kıta.csv\", squeeze=True)\n",
    "continents"
   ]
  },
  {
   "cell_type": "code",
   "execution_count": 4,
   "metadata": {},
   "outputs": [
    {
     "data": {
      "text/plain": [
       "Avrupa           8\n",
       "Asya             7\n",
       "Kuzey Amerika    3\n",
       "Okyanusya        1\n",
       "Güney Amerika    1\n",
       "Name: KITA, dtype: int64"
      ]
     },
     "execution_count": 4,
     "metadata": {},
     "output_type": "execute_result"
    }
   ],
   "source": [
    "continents.value_counts()"
   ]
  },
  {
   "cell_type": "code",
   "execution_count": 5,
   "metadata": {},
   "outputs": [
    {
     "data": {
      "text/plain": [
       "Güney Amerika    1\n",
       "Okyanusya        1\n",
       "Kuzey Amerika    3\n",
       "Asya             7\n",
       "Avrupa           8\n",
       "Name: KITA, dtype: int64"
      ]
     },
     "execution_count": 5,
     "metadata": {},
     "output_type": "execute_result"
    }
   ],
   "source": [
    "continents.value_counts(ascending=True)"
   ]
  },
  {
   "cell_type": "code",
   "execution_count": 7,
   "metadata": {},
   "outputs": [
    {
     "data": {
      "text/plain": [
       "0     20410000\n",
       "1     14090000\n",
       "2      5170000\n",
       "3      4210000\n",
       "4      2940000\n",
       "5      2930000\n",
       "6      2850000\n",
       "7      2180000\n",
       "8      2140000\n",
       "9      1800000\n",
       "10     1720000\n",
       "11     1690000\n",
       "12     1510000\n",
       "13     1500000\n",
       "14     1210000\n",
       "15     1070000\n",
       "16      945000\n",
       "17      910000\n",
       "18      748000\n",
       "19      741000\n",
       "Name: Milli Gelir, dtype: int64"
      ]
     },
     "execution_count": 7,
     "metadata": {},
     "output_type": "execute_result"
    }
   ],
   "source": [
    "gpd = pd.read_csv(\"../../data/milligelir.csv\", squeeze=True)\n",
    "gpd"
   ]
  },
  {
   "cell_type": "code",
   "execution_count": 9,
   "metadata": {},
   "outputs": [
    {
     "data": {
      "text/plain": [
       "0"
      ]
     },
     "execution_count": 9,
     "metadata": {},
     "output_type": "execute_result"
    }
   ],
   "source": [
    "gpd.idxmax()"
   ]
  },
  {
   "cell_type": "code",
   "execution_count": 11,
   "metadata": {},
   "outputs": [
    {
     "data": {
      "text/plain": [
       "19"
      ]
     },
     "execution_count": 11,
     "metadata": {},
     "output_type": "execute_result"
    }
   ],
   "source": [
    "gpd.idxmin()"
   ]
  },
  {
   "cell_type": "code",
   "execution_count": 15,
   "metadata": {},
   "outputs": [],
   "source": [
    "def _class(gdp):\n",
    "    if gdp < 2000000:\n",
    "        return \"medium\"\n",
    "    elif gdp < 5000000:\n",
    "        return \"high\"\n",
    "    else :\n",
    "        return \"very high\"\n"
   ]
  },
  {
   "cell_type": "code",
   "execution_count": 16,
   "metadata": {},
   "outputs": [
    {
     "data": {
      "text/plain": [
       "0     very high\n",
       "1     very high\n",
       "2     very high\n",
       "3          high\n",
       "4          high\n",
       "5          high\n",
       "6          high\n",
       "7          high\n",
       "8          high\n",
       "9        medium\n",
       "10       medium\n",
       "11       medium\n",
       "12       medium\n",
       "13       medium\n",
       "14       medium\n",
       "15       medium\n",
       "16       medium\n",
       "17       medium\n",
       "18       medium\n",
       "19       medium\n",
       "Name: Milli Gelir, dtype: object"
      ]
     },
     "execution_count": 16,
     "metadata": {},
     "output_type": "execute_result"
    }
   ],
   "source": [
    "gpd.apply(_class)"
   ]
  },
  {
   "cell_type": "code",
   "execution_count": 17,
   "metadata": {},
   "outputs": [
    {
     "data": {
      "text/plain": [
       "0     40820000\n",
       "1     28180000\n",
       "2     10340000\n",
       "3      8420000\n",
       "4      5880000\n",
       "5      5860000\n",
       "6      5700000\n",
       "7      4360000\n",
       "8      4280000\n",
       "9      3600000\n",
       "10     3440000\n",
       "11     3380000\n",
       "12     3020000\n",
       "13     3000000\n",
       "14     2420000\n",
       "15     2140000\n",
       "16     1890000\n",
       "17     1820000\n",
       "18     1496000\n",
       "19     1482000\n",
       "Name: Milli Gelir, dtype: int64"
      ]
     },
     "execution_count": 17,
     "metadata": {},
     "output_type": "execute_result"
    }
   ],
   "source": [
    "gpd.apply(lambda p: p *2)"
   ]
  },
  {
   "cell_type": "code",
   "execution_count": null,
   "metadata": {},
   "outputs": [],
   "source": []
  }
 ],
 "metadata": {
  "kernelspec": {
   "display_name": "Python 3",
   "language": "python",
   "name": "python3"
  },
  "language_info": {
   "codemirror_mode": {
    "name": "ipython",
    "version": 3
   },
   "file_extension": ".py",
   "mimetype": "text/x-python",
   "name": "python",
   "nbconvert_exporter": "python",
   "pygments_lexer": "ipython3",
   "version": "3.7.3"
  }
 },
 "nbformat": 4,
 "nbformat_minor": 2
}
