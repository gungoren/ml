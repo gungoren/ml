{
 "cells": [
  {
   "cell_type": "markdown",
   "metadata": {},
   "source": [
    "## Built-in Functions"
   ]
  },
  {
   "cell_type": "code",
   "execution_count": 2,
   "metadata": {},
   "outputs": [],
   "source": [
    "import pandas as pd"
   ]
  },
  {
   "cell_type": "code",
   "execution_count": 4,
   "metadata": {},
   "outputs": [],
   "source": [
    "country = pd.read_csv(\"../../data/ulke.csv\", squeeze=True)\n",
    "gsh = pd.read_csv(\"../../data/milligelir.csv\", squeeze=True)"
   ]
  },
  {
   "cell_type": "code",
   "execution_count": 5,
   "metadata": {},
   "outputs": [
    {
     "data": {
      "text/plain": [
       "20"
      ]
     },
     "execution_count": 5,
     "metadata": {},
     "output_type": "execute_result"
    }
   ],
   "source": [
    "len(country)"
   ]
  },
  {
   "cell_type": "code",
   "execution_count": 6,
   "metadata": {},
   "outputs": [
    {
     "data": {
      "text/plain": [
       "20"
      ]
     },
     "execution_count": 6,
     "metadata": {},
     "output_type": "execute_result"
    }
   ],
   "source": [
    "len(gsh)"
   ]
  },
  {
   "cell_type": "code",
   "execution_count": 7,
   "metadata": {},
   "outputs": [
    {
     "data": {
      "text/plain": [
       "pandas.core.series.Series"
      ]
     },
     "execution_count": 7,
     "metadata": {},
     "output_type": "execute_result"
    }
   ],
   "source": [
    "type(country)"
   ]
  },
  {
   "cell_type": "code",
   "execution_count": 8,
   "metadata": {},
   "outputs": [
    {
     "data": {
      "text/plain": [
       "['ABD',\n",
       " 'Almanya',\n",
       " 'Avusturalya',\n",
       " 'Brezilya',\n",
       " 'Endonezya',\n",
       " 'Fransa',\n",
       " 'GÜney Kore',\n",
       " 'Hindistan',\n",
       " 'Hollanda',\n",
       " 'Japonya',\n",
       " 'Kanada',\n",
       " 'Meksika',\n",
       " 'Rusya',\n",
       " 'Suudi Arabistan',\n",
       " 'Türkiye',\n",
       " 'Çin',\n",
       " 'İngiltere',\n",
       " 'İspanya',\n",
       " 'İsviçre',\n",
       " 'İtalya']"
      ]
     },
     "execution_count": 8,
     "metadata": {},
     "output_type": "execute_result"
    }
   ],
   "source": [
    "sorted(country)"
   ]
  },
  {
   "cell_type": "code",
   "execution_count": 9,
   "metadata": {},
   "outputs": [
    {
     "data": {
      "text/plain": [
       "[741000,\n",
       " 748000,\n",
       " 910000,\n",
       " 945000,\n",
       " 1070000,\n",
       " 1210000,\n",
       " 1500000,\n",
       " 1510000,\n",
       " 1690000,\n",
       " 1720000,\n",
       " 1800000,\n",
       " 2140000,\n",
       " 2180000,\n",
       " 2850000,\n",
       " 2930000,\n",
       " 2940000,\n",
       " 4210000,\n",
       " 5170000,\n",
       " 14090000,\n",
       " 20410000]"
      ]
     },
     "execution_count": 9,
     "metadata": {},
     "output_type": "execute_result"
    }
   ],
   "source": [
    "sorted(gsh)"
   ]
  },
  {
   "cell_type": "code",
   "execution_count": 10,
   "metadata": {},
   "outputs": [
    {
     "data": {
      "text/plain": [
       "['ABD',\n",
       " 'Çin',\n",
       " 'Japonya',\n",
       " 'Almanya',\n",
       " 'İngiltere',\n",
       " 'Fransa',\n",
       " 'Hindistan',\n",
       " 'İtalya',\n",
       " 'Brezilya',\n",
       " 'Kanada',\n",
       " 'Rusya',\n",
       " 'GÜney Kore',\n",
       " 'İspanya',\n",
       " 'Avusturalya',\n",
       " 'Meksika',\n",
       " 'Endonezya',\n",
       " 'Hollanda',\n",
       " 'Türkiye',\n",
       " 'Suudi Arabistan',\n",
       " 'İsviçre']"
      ]
     },
     "execution_count": 10,
     "metadata": {},
     "output_type": "execute_result"
    }
   ],
   "source": [
    "list(country)"
   ]
  },
  {
   "cell_type": "code",
   "execution_count": 11,
   "metadata": {},
   "outputs": [
    {
     "data": {
      "text/plain": [
       "[20410000,\n",
       " 14090000,\n",
       " 5170000,\n",
       " 4210000,\n",
       " 2940000,\n",
       " 2930000,\n",
       " 2850000,\n",
       " 2180000,\n",
       " 2140000,\n",
       " 1800000,\n",
       " 1720000,\n",
       " 1690000,\n",
       " 1510000,\n",
       " 1500000,\n",
       " 1210000,\n",
       " 1070000,\n",
       " 945000,\n",
       " 910000,\n",
       " 748000,\n",
       " 741000]"
      ]
     },
     "execution_count": 11,
     "metadata": {},
     "output_type": "execute_result"
    }
   ],
   "source": [
    "list(gsh)"
   ]
  },
  {
   "cell_type": "code",
   "execution_count": 12,
   "metadata": {},
   "outputs": [
    {
     "data": {
      "text/plain": [
       "{0: 'ABD',\n",
       " 1: 'Çin',\n",
       " 2: 'Japonya',\n",
       " 3: 'Almanya',\n",
       " 4: 'İngiltere',\n",
       " 5: 'Fransa',\n",
       " 6: 'Hindistan',\n",
       " 7: 'İtalya',\n",
       " 8: 'Brezilya',\n",
       " 9: 'Kanada',\n",
       " 10: 'Rusya',\n",
       " 11: 'GÜney Kore',\n",
       " 12: 'İspanya',\n",
       " 13: 'Avusturalya',\n",
       " 14: 'Meksika',\n",
       " 15: 'Endonezya',\n",
       " 16: 'Hollanda',\n",
       " 17: 'Türkiye',\n",
       " 18: 'Suudi Arabistan',\n",
       " 19: 'İsviçre'}"
      ]
     },
     "execution_count": 12,
     "metadata": {},
     "output_type": "execute_result"
    }
   ],
   "source": [
    "dict(country)"
   ]
  },
  {
   "cell_type": "code",
   "execution_count": 13,
   "metadata": {},
   "outputs": [
    {
     "data": {
      "text/plain": [
       "20410000"
      ]
     },
     "execution_count": 13,
     "metadata": {},
     "output_type": "execute_result"
    }
   ],
   "source": [
    "max(gsh)"
   ]
  },
  {
   "cell_type": "code",
   "execution_count": 14,
   "metadata": {},
   "outputs": [
    {
     "data": {
      "text/plain": [
       "741000"
      ]
     },
     "execution_count": 14,
     "metadata": {},
     "output_type": "execute_result"
    }
   ],
   "source": [
    "min(gsh)"
   ]
  },
  {
   "cell_type": "code",
   "execution_count": null,
   "metadata": {},
   "outputs": [],
   "source": []
  }
 ],
 "metadata": {
  "kernelspec": {
   "display_name": "Python 3",
   "language": "python",
   "name": "python3"
  },
  "language_info": {
   "codemirror_mode": {
    "name": "ipython",
    "version": 3
   },
   "file_extension": ".py",
   "mimetype": "text/x-python",
   "name": "python",
   "nbconvert_exporter": "python",
   "pygments_lexer": "ipython3",
   "version": "3.7.3"
  }
 },
 "nbformat": 4,
 "nbformat_minor": 2
}
