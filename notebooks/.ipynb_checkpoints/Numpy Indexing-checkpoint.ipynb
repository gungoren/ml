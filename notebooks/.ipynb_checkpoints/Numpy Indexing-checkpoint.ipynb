{
 "cells": [
  {
   "cell_type": "markdown",
   "metadata": {},
   "source": [
    "Numpy Indexing"
   ]
  },
  {
   "cell_type": "code",
   "execution_count": 1,
   "metadata": {},
   "outputs": [],
   "source": [
    "import numpy as np"
   ]
  },
  {
   "cell_type": "code",
   "execution_count": 2,
   "metadata": {},
   "outputs": [
    {
     "data": {
      "text/plain": [
       "array([ 0,  1,  4,  9, 16, 25, 36, 49, 64, 81])"
      ]
     },
     "execution_count": 2,
     "metadata": {},
     "output_type": "execute_result"
    }
   ],
   "source": [
    "a = np.arange(10)**2\n",
    "a"
   ]
  },
  {
   "cell_type": "code",
   "execution_count": 3,
   "metadata": {},
   "outputs": [
    {
     "data": {
      "text/plain": [
       "9"
      ]
     },
     "execution_count": 3,
     "metadata": {},
     "output_type": "execute_result"
    }
   ],
   "source": [
    "a[3]"
   ]
  },
  {
   "cell_type": "code",
   "execution_count": 4,
   "metadata": {},
   "outputs": [
    {
     "data": {
      "text/plain": [
       "array([ 9, 16, 25])"
      ]
     },
     "execution_count": 4,
     "metadata": {},
     "output_type": "execute_result"
    }
   ],
   "source": [
    "a[3:6]"
   ]
  },
  {
   "cell_type": "code",
   "execution_count": 5,
   "metadata": {},
   "outputs": [
    {
     "data": {
      "text/plain": [
       "array([   0,    1,    4,    9, 1000,   25,   36,   49,   64,   81])"
      ]
     },
     "execution_count": 5,
     "metadata": {},
     "output_type": "execute_result"
    }
   ],
   "source": [
    "a[4] = 1000\n",
    "a"
   ]
  },
  {
   "cell_type": "code",
   "execution_count": 6,
   "metadata": {},
   "outputs": [
    {
     "name": "stdout",
     "output_type": "stream",
     "text": [
      "0\n",
      "2\n",
      "8\n",
      "18\n",
      "2000\n",
      "50\n",
      "72\n",
      "98\n",
      "128\n",
      "162\n"
     ]
    }
   ],
   "source": [
    "for i in a:\n",
    "    print(i*2)"
   ]
  },
  {
   "cell_type": "markdown",
   "metadata": {},
   "source": [
    "## Multi-Dimension Array"
   ]
  },
  {
   "cell_type": "code",
   "execution_count": 7,
   "metadata": {},
   "outputs": [],
   "source": [
    "y = np.random.random(16)"
   ]
  },
  {
   "cell_type": "code",
   "execution_count": 8,
   "metadata": {},
   "outputs": [
    {
     "data": {
      "text/plain": [
       "array([0.68046565, 0.73046772, 0.21411133, 0.24719603, 0.74914156,\n",
       "       0.47266087, 0.18661142, 0.75897339, 0.23159032, 0.30275397,\n",
       "       0.12775443, 0.25897716, 0.06950258, 0.14863046, 0.45578841,\n",
       "       0.72424319])"
      ]
     },
     "execution_count": 8,
     "metadata": {},
     "output_type": "execute_result"
    }
   ],
   "source": [
    "y"
   ]
  },
  {
   "cell_type": "code",
   "execution_count": 9,
   "metadata": {},
   "outputs": [
    {
     "data": {
      "text/plain": [
       "array([[0.68046565, 0.73046772, 0.21411133, 0.24719603],\n",
       "       [0.74914156, 0.47266087, 0.18661142, 0.75897339],\n",
       "       [0.23159032, 0.30275397, 0.12775443, 0.25897716],\n",
       "       [0.06950258, 0.14863046, 0.45578841, 0.72424319]])"
      ]
     },
     "execution_count": 9,
     "metadata": {},
     "output_type": "execute_result"
    }
   ],
   "source": [
    "y = y.reshape(4,4)\n",
    "y"
   ]
  },
  {
   "cell_type": "code",
   "execution_count": 10,
   "metadata": {},
   "outputs": [
    {
     "data": {
      "text/plain": [
       "array([0.68046565, 0.73046772, 0.21411133, 0.24719603, 0.74914156,\n",
       "       0.47266087, 0.18661142, 0.75897339, 0.23159032, 0.30275397,\n",
       "       0.12775443, 0.25897716, 0.06950258, 0.14863046, 0.45578841,\n",
       "       0.72424319])"
      ]
     },
     "execution_count": 10,
     "metadata": {},
     "output_type": "execute_result"
    }
   ],
   "source": [
    "y.ravel()"
   ]
  },
  {
   "cell_type": "code",
   "execution_count": 11,
   "metadata": {},
   "outputs": [
    {
     "data": {
      "text/plain": [
       "array([0.73046772, 0.47266087])"
      ]
     },
     "execution_count": 11,
     "metadata": {},
     "output_type": "execute_result"
    }
   ],
   "source": [
    "y[0:2,1]"
   ]
  },
  {
   "cell_type": "code",
   "execution_count": 12,
   "metadata": {},
   "outputs": [
    {
     "data": {
      "text/plain": [
       "array([0.24719603, 0.75897339, 0.25897716, 0.72424319])"
      ]
     },
     "execution_count": 12,
     "metadata": {},
     "output_type": "execute_result"
    }
   ],
   "source": [
    "y[:,3]"
   ]
  },
  {
   "cell_type": "code",
   "execution_count": 13,
   "metadata": {},
   "outputs": [
    {
     "name": "stdout",
     "output_type": "stream",
     "text": [
      "[0.68046565 0.73046772 0.21411133 0.24719603]\n",
      "[0.74914156 0.47266087 0.18661142 0.75897339]\n",
      "[0.23159032 0.30275397 0.12775443 0.25897716]\n",
      "[0.06950258 0.14863046 0.45578841 0.72424319]\n"
     ]
    }
   ],
   "source": [
    "for row in y:\n",
    "    print(row)"
   ]
  },
  {
   "cell_type": "code",
   "execution_count": 14,
   "metadata": {},
   "outputs": [
    {
     "name": "stdout",
     "output_type": "stream",
     "text": [
      "0.6804656492692359\n",
      "0.7304677198339988\n",
      "0.21411132991260984\n",
      "0.24719603356358388\n",
      "0.7491415568317086\n",
      "0.47266087351940556\n",
      "0.18661142130813446\n",
      "0.7589733883817918\n",
      "0.23159032325326134\n",
      "0.3027539700398527\n",
      "0.12775443038610212\n",
      "0.2589771632983877\n",
      "0.06950257737511711\n",
      "0.1486304554939295\n",
      "0.4557884134943777\n",
      "0.7242431940317277\n"
     ]
    }
   ],
   "source": [
    "for row in y.flat:\n",
    "    print(row)"
   ]
  },
  {
   "cell_type": "code",
   "execution_count": 16,
   "metadata": {},
   "outputs": [
    {
     "name": "stdout",
     "output_type": "stream",
     "text": [
      "((0, 0), 0.6804656492692359)\n",
      "((0, 1), 0.7304677198339988)\n",
      "((0, 2), 0.21411132991260984)\n",
      "((0, 3), 0.24719603356358388)\n",
      "((1, 0), 0.7491415568317086)\n",
      "((1, 1), 0.47266087351940556)\n",
      "((1, 2), 0.18661142130813446)\n",
      "((1, 3), 0.7589733883817918)\n",
      "((2, 0), 0.23159032325326134)\n",
      "((2, 1), 0.3027539700398527)\n",
      "((2, 2), 0.12775443038610212)\n",
      "((2, 3), 0.2589771632983877)\n",
      "((3, 0), 0.06950257737511711)\n",
      "((3, 1), 0.1486304554939295)\n",
      "((3, 2), 0.4557884134943777)\n",
      "((3, 3), 0.7242431940317277)\n"
     ]
    }
   ],
   "source": [
    "for row in np.ndenumerate(y):\n",
    "    print(row)"
   ]
  },
  {
   "cell_type": "code",
   "execution_count": 17,
   "metadata": {},
   "outputs": [],
   "source": [
    "a = np.array([2,3])\n",
    "b = np.array([5,6])"
   ]
  },
  {
   "cell_type": "code",
   "execution_count": 19,
   "metadata": {},
   "outputs": [
    {
     "data": {
      "text/plain": [
       "array([2, 3, 5, 6])"
      ]
     },
     "execution_count": 19,
     "metadata": {},
     "output_type": "execute_result"
    }
   ],
   "source": [
    "np.hstack((a,b))"
   ]
  },
  {
   "cell_type": "code",
   "execution_count": 20,
   "metadata": {},
   "outputs": [
    {
     "data": {
      "text/plain": [
       "array([[2, 3],\n",
       "       [5, 6]])"
      ]
     },
     "execution_count": 20,
     "metadata": {},
     "output_type": "execute_result"
    }
   ],
   "source": [
    "np.vstack((a,b))"
   ]
  },
  {
   "cell_type": "code",
   "execution_count": 21,
   "metadata": {},
   "outputs": [],
   "source": [
    "r = np.array([[1,2], [3,4]])\n",
    "t = np.array([[5,6]])"
   ]
  },
  {
   "cell_type": "code",
   "execution_count": 23,
   "metadata": {},
   "outputs": [
    {
     "data": {
      "text/plain": [
       "array([[1, 2],\n",
       "       [3, 4],\n",
       "       [5, 6]])"
      ]
     },
     "execution_count": 23,
     "metadata": {},
     "output_type": "execute_result"
    }
   ],
   "source": [
    "np.concatenate((r,t), axis=0)"
   ]
  },
  {
   "cell_type": "code",
   "execution_count": 25,
   "metadata": {},
   "outputs": [
    {
     "data": {
      "text/plain": [
       "array([[1, 2, 5],\n",
       "       [3, 4, 6]])"
      ]
     },
     "execution_count": 25,
     "metadata": {},
     "output_type": "execute_result"
    }
   ],
   "source": [
    "np.concatenate((r,t.T), axis=1)"
   ]
  },
  {
   "cell_type": "code",
   "execution_count": null,
   "metadata": {},
   "outputs": [],
   "source": []
  }
 ],
 "metadata": {
  "kernelspec": {
   "display_name": "Python 3",
   "language": "python",
   "name": "python3"
  },
  "language_info": {
   "codemirror_mode": {
    "name": "ipython",
    "version": 3
   },
   "file_extension": ".py",
   "mimetype": "text/x-python",
   "name": "python",
   "nbconvert_exporter": "python",
   "pygments_lexer": "ipython3",
   "version": "3.7.3"
  }
 },
 "nbformat": 4,
 "nbformat_minor": 2
}
