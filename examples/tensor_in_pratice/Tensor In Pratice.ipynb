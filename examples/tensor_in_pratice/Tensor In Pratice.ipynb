{
 "cells": [
  {
   "cell_type": "code",
   "execution_count": 1,
   "metadata": {},
   "outputs": [
    {
     "name": "stdout",
     "output_type": "stream",
     "text": [
      "Average grade: \n",
      "5\n",
      "Tensor dimensions: \n",
      "0\n"
     ]
    }
   ],
   "source": [
    "import numpy as np\n",
    "tensor_0D = np.array(5)\n",
    "print(\"Average grade: \\n{}\".format(tensor_0D))\n",
    "print(\"Tensor dimensions: \\n{}\".format(tensor_0D.ndim))"
   ]
  },
  {
   "cell_type": "code",
   "execution_count": 2,
   "metadata": {},
   "outputs": [
    {
     "name": "stdout",
     "output_type": "stream",
     "text": [
      "Subject grades: \n",
      "[4 6 8]\n",
      "Tensor dimensions: \n",
      "0\n"
     ]
    }
   ],
   "source": [
    "tensor_1D = np.array([4,6,8])\n",
    "print(\"Subject grades: \\n{}\".format(tensor_1D))\n",
    "print(\"Tensor dimensions: \\n{}\".format(tensor_0D.ndim))"
   ]
  },
  {
   "cell_type": "code",
   "execution_count": 3,
   "metadata": {},
   "outputs": [
    {
     "name": "stdout",
     "output_type": "stream",
     "text": [
      "Exam grades are:\n",
      "[[0 1 1]\n",
      " [2 3 3]\n",
      " [1 3 2]]\n",
      "Subject 1:\n",
      "[0 1 1]\n",
      "Subject 2:\n",
      "[2 3 3]\n",
      "Subject 3:\n",
      "[1 3 2]\n",
      "Tensor dimensions: \n",
      "2\n"
     ]
    }
   ],
   "source": [
    "# 2D Tensor (matrix)\n",
    "tensor_2D = np.array([[0, 1, 1],  # Subject 1\n",
    "                      [2, 3, 3],  # Subject 2\n",
    "                      [1, 3, 2]])  # Subject 3\n",
    "print(\"Exam grades are:\\n{}\".format(tensor_2D))\n",
    "print(\"Subject 1:\\n{}\".format(tensor_2D[0]))\n",
    "print(\"Subject 2:\\n{}\".format(tensor_2D[1]))\n",
    "print(\"Subject 3:\\n{}\".format(tensor_2D[2]))\n",
    "print(\"Tensor dimensions: \\n{}\".format(tensor_2D.ndim))"
   ]
  },
  {
   "cell_type": "code",
   "execution_count": 4,
   "metadata": {},
   "outputs": [
    {
     "name": "stdout",
     "output_type": "stream",
     "text": [
      "Exam grades per quarter are:\n",
      "[[[0 1 1]\n",
      "  [2 3 3]\n",
      "  [1 3 2]]\n",
      "\n",
      " [[1 3 2]\n",
      "  [2 4 2]\n",
      "  [0 1 1]]]\n",
      "First quarter:\n",
      "[[0 1 1]\n",
      " [2 3 3]\n",
      " [1 3 2]]\n",
      "Second quarter:\n",
      "[[1 3 2]\n",
      " [2 4 2]\n",
      " [0 1 1]]\n",
      "Tensor dimensions: \n",
      "3\n"
     ]
    }
   ],
   "source": [
    "tensor_3D = np.array([[[0, 1, 1],  # First quarter\n",
    "                      [2, 3, 3],\n",
    "                      [1, 3, 2]],\n",
    "                     [[1, 3, 2],  # Second quarter\n",
    "                      [2, 4, 2],\n",
    "                      [0, 1, 1]]])\n",
    "print(\"Exam grades per quarter are:\\n{}\".format(tensor_3D))\n",
    "print(\"First quarter:\\n{}\".format(tensor_3D[0]))\n",
    "print(\"Second quarter:\\n{}\".format(tensor_3D[1]))\n",
    "print(\"Tensor dimensions: \\n{}\".format(tensor_3D.ndim))"
   ]
  },
  {
   "cell_type": "code",
   "execution_count": 5,
   "metadata": {},
   "outputs": [
    {
     "name": "stdout",
     "output_type": "stream",
     "text": [
      "The grades of each student are:\n",
      "[[[[0 1 1]\n",
      "   [2 3 3]\n",
      "   [1 3 2]]\n",
      "\n",
      "  [[1 3 2]\n",
      "   [2 4 2]\n",
      "   [0 1 1]]]\n",
      "\n",
      "\n",
      " [[[0 3 1]\n",
      "   [2 4 1]\n",
      "   [1 3 2]]\n",
      "\n",
      "  [[1 1 1]\n",
      "   [2 3 4]\n",
      "   [1 3 2]]]\n",
      "\n",
      "\n",
      " [[[2 2 4]\n",
      "   [2 1 3]\n",
      "   [0 4 2]]\n",
      "\n",
      "  [[2 4 1]\n",
      "   [2 3 0]\n",
      "   [1 3 3]]]]\n",
      "Jacob's grades:\n",
      "[[[0 1 1]\n",
      "  [2 3 3]\n",
      "  [1 3 2]]\n",
      "\n",
      " [[1 3 2]\n",
      "  [2 4 2]\n",
      "  [0 1 1]]]\n",
      "Christian's grades:\n",
      "[[[0 3 1]\n",
      "  [2 4 1]\n",
      "  [1 3 2]]\n",
      "\n",
      " [[1 1 1]\n",
      "  [2 3 4]\n",
      "  [1 3 2]]]\n",
      "Sofia's grades:\n",
      "[[[2 2 4]\n",
      "  [2 1 3]\n",
      "  [0 4 2]]\n",
      "\n",
      " [[2 4 1]\n",
      "  [2 3 0]\n",
      "  [1 3 3]]]\n",
      "Tensor dimensions: \n",
      "4\n"
     ]
    }
   ],
   "source": [
    "tensor_4D = np.array([[[[0, 1, 1], # Jacob\n",
    "                      [2, 3, 3],\n",
    "                      [1, 3, 2]],\n",
    "                     [[1, 3, 2],\n",
    "                      [2, 4, 2],\n",
    "                      [0, 1, 1]]],\n",
    "                      [[[0, 3, 1], # Christian\n",
    "                      [2, 4, 1],\n",
    "                      [1, 3, 2]],\n",
    "                     [[1, 1, 1],\n",
    "                      [2, 3, 4],\n",
    "                      [1, 3, 2]]],\n",
    "                     [[[2, 2, 4], # Sofia\n",
    "                      [2, 1, 3],\n",
    "                      [0, 4, 2]],\n",
    "                     [[2, 4, 1],\n",
    "                      [2, 3, 0],\n",
    "                      [1, 3, 3]]]])\n",
    "print(\"The grades of each student are:\\n{}\".format(tensor_4D))\n",
    "print(\"Jacob's grades:\\n{}\".format(tensor_4D[0]))\n",
    "print(\"Christian's grades:\\n{}\".format(tensor_4D[1]))\n",
    "print(\"Sofia's grades:\\n{}\".format(tensor_4D[2]))\n",
    "print(\"Tensor dimensions: \\n{}\".format(tensor_4D.ndim))"
   ]
  },
  {
   "cell_type": "code",
   "execution_count": null,
   "metadata": {},
   "outputs": [],
   "source": []
  }
 ],
 "metadata": {
  "kernelspec": {
   "display_name": "Python 3",
   "language": "python",
   "name": "python3"
  },
  "language_info": {
   "codemirror_mode": {
    "name": "ipython",
    "version": 3
   },
   "file_extension": ".py",
   "mimetype": "text/x-python",
   "name": "python",
   "nbconvert_exporter": "python",
   "pygments_lexer": "ipython3",
   "version": "3.7.4"
  }
 },
 "nbformat": 4,
 "nbformat_minor": 2
}
