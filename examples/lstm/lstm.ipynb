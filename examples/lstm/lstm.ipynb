{
 "cells": [
  {
   "cell_type": "code",
   "execution_count": 2,
   "metadata": {},
   "outputs": [],
   "source": [
    "import numpy as np\n",
    "import matplotlib.pyplot as plt\n",
    "import pandas as pd\n",
    "\n"
   ]
  },
  {
   "cell_type": "code",
   "execution_count": 3,
   "metadata": {
    "pycharm": {
     "name": "#%%\n"
    }
   },
   "outputs": [],
   "source": [
    "url = 'NSE-TATAGLOBAL.csv'\n",
    "dataset_train = pd.read_csv(url)\n",
    "training_set = dataset_train.iloc[:, 1:2].values"
   ]
  },
  {
   "cell_type": "code",
   "execution_count": 13,
   "metadata": {},
   "outputs": [
    {
     "data": {
      "text/plain": [
       "(2035, 1)"
      ]
     },
     "execution_count": 13,
     "metadata": {},
     "output_type": "execute_result"
    }
   ],
   "source": [
    "training_set.shape"
   ]
  },
  {
   "cell_type": "code",
   "execution_count": 4,
   "metadata": {
    "pycharm": {
     "name": "#%%\n"
    }
   },
   "outputs": [
    {
     "data": {
      "text/html": [
       "<div>\n",
       "<style scoped>\n",
       "    .dataframe tbody tr th:only-of-type {\n",
       "        vertical-align: middle;\n",
       "    }\n",
       "\n",
       "    .dataframe tbody tr th {\n",
       "        vertical-align: top;\n",
       "    }\n",
       "\n",
       "    .dataframe thead th {\n",
       "        text-align: right;\n",
       "    }\n",
       "</style>\n",
       "<table border=\"1\" class=\"dataframe\">\n",
       "  <thead>\n",
       "    <tr style=\"text-align: right;\">\n",
       "      <th></th>\n",
       "      <th>Date</th>\n",
       "      <th>Open</th>\n",
       "      <th>High</th>\n",
       "      <th>Low</th>\n",
       "      <th>Last</th>\n",
       "      <th>Close</th>\n",
       "      <th>Total Trade Quantity</th>\n",
       "      <th>Turnover (Lacs)</th>\n",
       "    </tr>\n",
       "  </thead>\n",
       "  <tbody>\n",
       "    <tr>\n",
       "      <td>0</td>\n",
       "      <td>2018-09-28</td>\n",
       "      <td>234.05</td>\n",
       "      <td>235.95</td>\n",
       "      <td>230.20</td>\n",
       "      <td>233.50</td>\n",
       "      <td>233.75</td>\n",
       "      <td>3069914</td>\n",
       "      <td>7162.35</td>\n",
       "    </tr>\n",
       "    <tr>\n",
       "      <td>1</td>\n",
       "      <td>2018-09-27</td>\n",
       "      <td>234.55</td>\n",
       "      <td>236.80</td>\n",
       "      <td>231.10</td>\n",
       "      <td>233.80</td>\n",
       "      <td>233.25</td>\n",
       "      <td>5082859</td>\n",
       "      <td>11859.95</td>\n",
       "    </tr>\n",
       "    <tr>\n",
       "      <td>2</td>\n",
       "      <td>2018-09-26</td>\n",
       "      <td>240.00</td>\n",
       "      <td>240.00</td>\n",
       "      <td>232.50</td>\n",
       "      <td>235.00</td>\n",
       "      <td>234.25</td>\n",
       "      <td>2240909</td>\n",
       "      <td>5248.60</td>\n",
       "    </tr>\n",
       "    <tr>\n",
       "      <td>3</td>\n",
       "      <td>2018-09-25</td>\n",
       "      <td>233.30</td>\n",
       "      <td>236.75</td>\n",
       "      <td>232.00</td>\n",
       "      <td>236.25</td>\n",
       "      <td>236.10</td>\n",
       "      <td>2349368</td>\n",
       "      <td>5503.90</td>\n",
       "    </tr>\n",
       "    <tr>\n",
       "      <td>4</td>\n",
       "      <td>2018-09-24</td>\n",
       "      <td>233.55</td>\n",
       "      <td>239.20</td>\n",
       "      <td>230.75</td>\n",
       "      <td>234.00</td>\n",
       "      <td>233.30</td>\n",
       "      <td>3423509</td>\n",
       "      <td>7999.55</td>\n",
       "    </tr>\n",
       "  </tbody>\n",
       "</table>\n",
       "</div>"
      ],
      "text/plain": [
       "         Date    Open    High     Low    Last   Close  Total Trade Quantity  \\\n",
       "0  2018-09-28  234.05  235.95  230.20  233.50  233.75               3069914   \n",
       "1  2018-09-27  234.55  236.80  231.10  233.80  233.25               5082859   \n",
       "2  2018-09-26  240.00  240.00  232.50  235.00  234.25               2240909   \n",
       "3  2018-09-25  233.30  236.75  232.00  236.25  236.10               2349368   \n",
       "4  2018-09-24  233.55  239.20  230.75  234.00  233.30               3423509   \n",
       "\n",
       "   Turnover (Lacs)  \n",
       "0          7162.35  \n",
       "1         11859.95  \n",
       "2          5248.60  \n",
       "3          5503.90  \n",
       "4          7999.55  "
      ]
     },
     "execution_count": 4,
     "metadata": {},
     "output_type": "execute_result"
    }
   ],
   "source": [
    "dataset_train.head()"
   ]
  },
  {
   "cell_type": "code",
   "execution_count": 5,
   "metadata": {},
   "outputs": [],
   "source": [
    "from sklearn.preprocessing import MinMaxScaler\n",
    "sc = MinMaxScaler(feature_range=(0,1))\n",
    "training_set_scaled = sc.fit_transform(training_set)"
   ]
  },
  {
   "cell_type": "code",
   "execution_count": 7,
   "metadata": {},
   "outputs": [],
   "source": [
    "X_train = []\n",
    "y_train = []\n",
    "for i in range(60, 2035):\n",
    "    X_train.append(training_set_scaled[i-60:i, 0])\n",
    "    y_train.append(training_set_scaled[i, 0])\n",
    "X_train, y_train = np.array(X_train), np.array(y_train)\n",
    "X_train = np.reshape(X_train, (X_train.shape[0], X_train.shape[1], 1))"
   ]
  },
  {
   "cell_type": "code",
   "execution_count": 8,
   "metadata": {},
   "outputs": [
    {
     "data": {
      "text/plain": [
       "(1975, 60, 1)"
      ]
     },
     "execution_count": 8,
     "metadata": {},
     "output_type": "execute_result"
    }
   ],
   "source": [
    "X_train.shape"
   ]
  },
  {
   "cell_type": "code",
   "execution_count": 10,
   "metadata": {
    "scrolled": true
   },
   "outputs": [
    {
     "data": {
      "text/plain": [
       "array([[0.62226277],\n",
       "       [0.64436334],\n",
       "       [0.61719384],\n",
       "       [0.61820762],\n",
       "       [0.62408759],\n",
       "       [0.62793998],\n",
       "       [0.63584753],\n",
       "       [0.61658556],\n",
       "       [0.57725061],\n",
       "       [0.54845904],\n",
       "       [0.57339822],\n",
       "       [0.57339822],\n",
       "       [0.56731549],\n",
       "       [0.57948094],\n",
       "       [0.57137064],\n",
       "       [0.63706407],\n",
       "       [0.62814274],\n",
       "       [0.63219789],\n",
       "       [0.62550689],\n",
       "       [0.61942417],\n",
       "       [0.63219789],\n",
       "       [0.61111111],\n",
       "       [0.62206002],\n",
       "       [0.64557989],\n",
       "       [0.67234388],\n",
       "       [0.66058394],\n",
       "       [0.64760746],\n",
       "       [0.6283455 ],\n",
       "       [0.62408759],\n",
       "       [0.61597729],\n",
       "       [0.63341444],\n",
       "       [0.63077859],\n",
       "       [0.63321168],\n",
       "       [0.64841849],\n",
       "       [0.62469586],\n",
       "       [0.62814274],\n",
       "       [0.61394972],\n",
       "       [0.67964315],\n",
       "       [0.65815085],\n",
       "       [0.6593674 ],\n",
       "       [0.64841849],\n",
       "       [0.62773723],\n",
       "       [0.67883212],\n",
       "       [0.66058394],\n",
       "       [0.63990268],\n",
       "       [0.60888078],\n",
       "       [0.6431468 ],\n",
       "       [0.6784266 ],\n",
       "       [0.65064882],\n",
       "       [0.71695053],\n",
       "       [0.74574209],\n",
       "       [0.7676399 ],\n",
       "       [0.78548256],\n",
       "       [0.78994323],\n",
       "       [0.75892133],\n",
       "       [0.76520681],\n",
       "       [0.79622871],\n",
       "       [0.81062449],\n",
       "       [0.74371452],\n",
       "       [0.77007299]])"
      ]
     },
     "execution_count": 10,
     "metadata": {},
     "output_type": "execute_result"
    }
   ],
   "source": [
    "X_train[1]"
   ]
  },
  {
   "cell_type": "markdown",
   "metadata": {},
   "source": [
    "## Creating the LSTM Model"
   ]
  },
  {
   "cell_type": "code",
   "execution_count": 14,
   "metadata": {},
   "outputs": [
    {
     "name": "stderr",
     "output_type": "stream",
     "text": [
      "Using TensorFlow backend.\n"
     ]
    }
   ],
   "source": [
    "from keras.models import Sequential\n",
    "from keras.layers import LSTM\n",
    "from keras.layers import Dropout\n",
    "from keras.layers import Dense"
   ]
  },
  {
   "cell_type": "code",
   "execution_count": 15,
   "metadata": {},
   "outputs": [
    {
     "name": "stdout",
     "output_type": "stream",
     "text": [
      "Epoch 1/100\n",
      "1975/1975 [==============================] - 6s 3ms/step - loss: 0.0144\n",
      "Epoch 2/100\n",
      "1975/1975 [==============================] - 5s 2ms/step - loss: 0.0029\n",
      "Epoch 3/100\n",
      "1975/1975 [==============================] - 5s 3ms/step - loss: 0.0026\n",
      "Epoch 4/100\n",
      "1975/1975 [==============================] - 5s 2ms/step - loss: 0.0025\n",
      "Epoch 5/100\n",
      "1975/1975 [==============================] - 5s 3ms/step - loss: 0.0023\n",
      "Epoch 6/100\n",
      "1975/1975 [==============================] - 5s 2ms/step - loss: 0.0024\n",
      "Epoch 7/100\n",
      "1975/1975 [==============================] - 5s 2ms/step - loss: 0.0027\n",
      "Epoch 8/100\n",
      "1975/1975 [==============================] - 5s 3ms/step - loss: 0.0018\n",
      "Epoch 9/100\n",
      "1975/1975 [==============================] - 5s 2ms/step - loss: 0.0020\n",
      "Epoch 10/100\n",
      "1975/1975 [==============================] - 5s 2ms/step - loss: 0.0018\n",
      "Epoch 11/100\n",
      "1975/1975 [==============================] - 5s 2ms/step - loss: 0.0019\n",
      "Epoch 12/100\n",
      "1975/1975 [==============================] - 5s 2ms/step - loss: 0.0018\n",
      "Epoch 13/100\n",
      "1975/1975 [==============================] - 5s 3ms/step - loss: 0.0018\n",
      "Epoch 14/100\n",
      "1975/1975 [==============================] - 5s 3ms/step - loss: 0.0018\n",
      "Epoch 15/100\n",
      "1975/1975 [==============================] - 5s 2ms/step - loss: 0.0016\n",
      "Epoch 16/100\n",
      "1975/1975 [==============================] - 5s 2ms/step - loss: 0.0017\n",
      "Epoch 17/100\n",
      "1975/1975 [==============================] - 5s 2ms/step - loss: 0.0015\n",
      "Epoch 18/100\n",
      "1975/1975 [==============================] - 5s 2ms/step - loss: 0.0016\n",
      "Epoch 19/100\n",
      "1975/1975 [==============================] - 5s 2ms/step - loss: 0.0015\n",
      "Epoch 20/100\n",
      "1975/1975 [==============================] - 5s 2ms/step - loss: 0.0016\n",
      "Epoch 21/100\n",
      "1975/1975 [==============================] - 5s 2ms/step - loss: 0.0014\n",
      "Epoch 22/100\n",
      "1975/1975 [==============================] - 5s 2ms/step - loss: 0.0014\n",
      "Epoch 23/100\n",
      "1975/1975 [==============================] - 5s 2ms/step - loss: 0.0013\n",
      "Epoch 24/100\n",
      "1975/1975 [==============================] - 5s 2ms/step - loss: 0.0013\n",
      "Epoch 25/100\n",
      "1975/1975 [==============================] - 5s 2ms/step - loss: 0.0011\n",
      "Epoch 26/100\n",
      "1975/1975 [==============================] - 5s 2ms/step - loss: 0.0013\n",
      "Epoch 27/100\n",
      "1975/1975 [==============================] - 5s 2ms/step - loss: 0.0011\n",
      "Epoch 28/100\n",
      "1975/1975 [==============================] - 5s 2ms/step - loss: 0.0012\n",
      "Epoch 29/100\n",
      "1975/1975 [==============================] - 5s 2ms/step - loss: 0.0012\n",
      "Epoch 30/100\n",
      "1975/1975 [==============================] - 4s 2ms/step - loss: 0.0011\n",
      "Epoch 31/100\n",
      "1975/1975 [==============================] - 5s 2ms/step - loss: 0.0011\n",
      "Epoch 32/100\n",
      "1975/1975 [==============================] - 4s 2ms/step - loss: 0.0013\n",
      "Epoch 33/100\n",
      "1975/1975 [==============================] - 5s 2ms/step - loss: 0.0010\n",
      "Epoch 34/100\n",
      "1975/1975 [==============================] - 5s 2ms/step - loss: 0.0010\n",
      "Epoch 35/100\n",
      "1975/1975 [==============================] - 4s 2ms/step - loss: 0.0011\n",
      "Epoch 36/100\n",
      "1975/1975 [==============================] - 4s 2ms/step - loss: 0.0010\n",
      "Epoch 37/100\n",
      "1975/1975 [==============================] - 4s 2ms/step - loss: 0.0011\n",
      "Epoch 38/100\n",
      "1975/1975 [==============================] - 4s 2ms/step - loss: 0.0011\n",
      "Epoch 39/100\n",
      "1975/1975 [==============================] - 4s 2ms/step - loss: 0.0010\n",
      "Epoch 40/100\n",
      "1975/1975 [==============================] - 4s 2ms/step - loss: 9.4410e-04\n",
      "Epoch 41/100\n",
      "1975/1975 [==============================] - 4s 2ms/step - loss: 0.0010\n",
      "Epoch 42/100\n",
      "1975/1975 [==============================] - 4s 2ms/step - loss: 0.0012\n",
      "Epoch 43/100\n",
      "1975/1975 [==============================] - 4s 2ms/step - loss: 8.3482e-04\n",
      "Epoch 44/100\n",
      "1975/1975 [==============================] - 4s 2ms/step - loss: 8.8158e-04\n",
      "Epoch 45/100\n",
      "1975/1975 [==============================] - 5s 2ms/step - loss: 9.0696e-04\n",
      "Epoch 46/100\n",
      "1975/1975 [==============================] - 5s 2ms/step - loss: 8.2706e-04\n",
      "Epoch 47/100\n",
      "1975/1975 [==============================] - 5s 2ms/step - loss: 8.8876e-04\n",
      "Epoch 48/100\n",
      "1975/1975 [==============================] - 4s 2ms/step - loss: 8.5244e-04\n",
      "Epoch 49/100\n",
      "1975/1975 [==============================] - 5s 2ms/step - loss: 7.6837e-04\n",
      "Epoch 50/100\n",
      "1975/1975 [==============================] - 5s 2ms/step - loss: 7.8602e-04\n",
      "Epoch 51/100\n",
      "1975/1975 [==============================] - 5s 2ms/step - loss: 8.2069e-04\n",
      "Epoch 52/100\n",
      "1975/1975 [==============================] - 5s 2ms/step - loss: 8.0246e-04\n",
      "Epoch 53/100\n",
      "1975/1975 [==============================] - 5s 2ms/step - loss: 7.8860e-04\n",
      "Epoch 54/100\n",
      "1975/1975 [==============================] - 5s 2ms/step - loss: 7.9202e-04\n",
      "Epoch 55/100\n",
      "1975/1975 [==============================] - 4s 2ms/step - loss: 7.6786e-04\n",
      "Epoch 56/100\n",
      "1975/1975 [==============================] - 5s 2ms/step - loss: 7.9829e-04\n",
      "Epoch 57/100\n",
      "1975/1975 [==============================] - 4s 2ms/step - loss: 8.3005e-04\n",
      "Epoch 58/100\n",
      "1975/1975 [==============================] - 5s 2ms/step - loss: 7.9228e-04\n",
      "Epoch 59/100\n",
      "1975/1975 [==============================] - 5s 2ms/step - loss: 7.6485e-04\n",
      "Epoch 60/100\n",
      "1975/1975 [==============================] - 4s 2ms/step - loss: 7.2670e-04\n",
      "Epoch 61/100\n",
      "1975/1975 [==============================] - 4s 2ms/step - loss: 8.1687e-04\n",
      "Epoch 62/100\n",
      "1975/1975 [==============================] - 5s 2ms/step - loss: 7.8038e-04\n",
      "Epoch 63/100\n",
      "1975/1975 [==============================] - 5s 2ms/step - loss: 8.0194e-04\n",
      "Epoch 64/100\n",
      "1975/1975 [==============================] - 5s 2ms/step - loss: 7.4050e-04\n",
      "Epoch 65/100\n",
      "1975/1975 [==============================] - 5s 2ms/step - loss: 7.4793e-04\n",
      "Epoch 66/100\n",
      "1975/1975 [==============================] - 5s 2ms/step - loss: 8.2916e-04\n",
      "Epoch 67/100\n",
      "1975/1975 [==============================] - 5s 2ms/step - loss: 7.3531e-04\n",
      "Epoch 68/100\n",
      "1975/1975 [==============================] - 5s 2ms/step - loss: 6.5607e-04\n",
      "Epoch 69/100\n",
      "1975/1975 [==============================] - 4s 2ms/step - loss: 7.6490e-04\n",
      "Epoch 70/100\n",
      "1975/1975 [==============================] - 4s 2ms/step - loss: 6.8663e-04\n",
      "Epoch 71/100\n",
      "1975/1975 [==============================] - 5s 2ms/step - loss: 7.1931e-04\n",
      "Epoch 72/100\n",
      "1975/1975 [==============================] - 4s 2ms/step - loss: 6.4902e-04\n",
      "Epoch 73/100\n",
      "1975/1975 [==============================] - 5s 3ms/step - loss: 6.0813e-04\n",
      "Epoch 74/100\n",
      "1975/1975 [==============================] - 5s 2ms/step - loss: 6.5048e-04\n",
      "Epoch 75/100\n",
      "1975/1975 [==============================] - 4s 2ms/step - loss: 6.4002e-04\n",
      "Epoch 76/100\n",
      "1975/1975 [==============================] - 4s 2ms/step - loss: 6.7538e-04\n",
      "Epoch 77/100\n",
      "1975/1975 [==============================] - 5s 2ms/step - loss: 7.2294e-04\n",
      "Epoch 78/100\n",
      "1975/1975 [==============================] - 5s 2ms/step - loss: 5.6002e-04\n",
      "Epoch 79/100\n",
      "1975/1975 [==============================] - 5s 2ms/step - loss: 7.6462e-04\n",
      "Epoch 80/100\n",
      "1975/1975 [==============================] - 5s 2ms/step - loss: 6.7494e-04\n",
      "Epoch 81/100\n",
      "1975/1975 [==============================] - 5s 2ms/step - loss: 6.6070e-04\n",
      "Epoch 82/100\n",
      "1975/1975 [==============================] - 4s 2ms/step - loss: 6.8307e-04\n",
      "Epoch 83/100\n",
      "1975/1975 [==============================] - 4s 2ms/step - loss: 7.5950e-04\n",
      "Epoch 84/100\n",
      "1975/1975 [==============================] - 4s 2ms/step - loss: 7.1875e-04\n",
      "Epoch 85/100\n",
      "1975/1975 [==============================] - 4s 2ms/step - loss: 7.0601e-04\n",
      "Epoch 86/100\n",
      "1975/1975 [==============================] - 5s 2ms/step - loss: 6.4844e-04\n",
      "Epoch 87/100\n",
      "1975/1975 [==============================] - 5s 2ms/step - loss: 6.4805e-04\n",
      "Epoch 88/100\n",
      "1975/1975 [==============================] - 5s 2ms/step - loss: 6.5358e-04\n",
      "Epoch 89/100\n",
      "1975/1975 [==============================] - 5s 2ms/step - loss: 6.6716e-04\n",
      "Epoch 90/100\n",
      "1975/1975 [==============================] - 4s 2ms/step - loss: 6.4592e-04\n",
      "Epoch 91/100\n",
      "1975/1975 [==============================] - 4s 2ms/step - loss: 5.8253e-04\n",
      "Epoch 92/100\n",
      "1975/1975 [==============================] - 4s 2ms/step - loss: 6.1194e-04\n",
      "Epoch 93/100\n",
      "1975/1975 [==============================] - 4s 2ms/step - loss: 6.1266e-04\n",
      "Epoch 94/100\n",
      "1975/1975 [==============================] - 4s 2ms/step - loss: 5.9512e-04\n"
     ]
    },
    {
     "name": "stdout",
     "output_type": "stream",
     "text": [
      "Epoch 95/100\n",
      "1975/1975 [==============================] - 4s 2ms/step - loss: 6.6009e-04\n",
      "Epoch 96/100\n",
      "1975/1975 [==============================] - 4s 2ms/step - loss: 6.8306e-04\n",
      "Epoch 97/100\n",
      "1975/1975 [==============================] - 4s 2ms/step - loss: 7.2676e-04\n",
      "Epoch 98/100\n",
      "1975/1975 [==============================] - 5s 2ms/step - loss: 5.7432e-04\n",
      "Epoch 99/100\n",
      "1975/1975 [==============================] - 5s 2ms/step - loss: 5.5848e-04\n",
      "Epoch 100/100\n",
      "1975/1975 [==============================] - 4s 2ms/step - loss: 7.2131e-04\n"
     ]
    },
    {
     "data": {
      "text/plain": [
       "<keras.callbacks.callbacks.History at 0x1a420d1c90>"
      ]
     },
     "execution_count": 15,
     "metadata": {},
     "output_type": "execute_result"
    }
   ],
   "source": [
    "model = Sequential()\n",
    "model.add(LSTM(units=50,return_sequences=True,input_shape=(X_train.shape[1], 1)))\n",
    "model.add(Dropout(0.2))\n",
    "model.add(LSTM(units=50,return_sequences=True))\n",
    "model.add(Dropout(0.2))\n",
    "model.add(LSTM(units=50,return_sequences=True))\n",
    "model.add(Dropout(0.2))\n",
    "model.add(LSTM(units=50))\n",
    "model.add(Dropout(0.2))\n",
    "model.add(Dense(units=1))\n",
    "model.compile(optimizer='adam',loss='mean_squared_error')\n",
    "model.fit(X_train,y_train,epochs=100,batch_size=32)"
   ]
  },
  {
   "cell_type": "markdown",
   "metadata": {},
   "source": [
    "### Making Predictions on the Test Set"
   ]
  },
  {
   "cell_type": "code",
   "execution_count": 16,
   "metadata": {},
   "outputs": [],
   "source": [
    "url = 'tatatest.csv'\n",
    "dataset_test = pd.read_csv(url)\n",
    "real_stock_price = dataset_test.iloc[:, 1:2].values"
   ]
  },
  {
   "cell_type": "code",
   "execution_count": 17,
   "metadata": {},
   "outputs": [],
   "source": [
    "dataset_total = pd.concat((dataset_train['Open'], dataset_test['Open']), axis = 0)\n",
    "inputs = dataset_total[len(dataset_total) - len(dataset_test) - 60:].values\n",
    "inputs = inputs.reshape(-1,1)\n",
    "inputs = sc.transform(inputs)\n",
    "X_test = []"
   ]
  },
  {
   "cell_type": "code",
   "execution_count": 18,
   "metadata": {},
   "outputs": [],
   "source": [
    "for i in range(60, 76):\n",
    "    X_test.append(inputs[i-60:i, 0])"
   ]
  },
  {
   "cell_type": "code",
   "execution_count": 19,
   "metadata": {},
   "outputs": [],
   "source": [
    "X_test = np.array(X_test)\n",
    "X_test = np.reshape(X_test, (X_test.shape[0], X_test.shape[1], 1))"
   ]
  },
  {
   "cell_type": "code",
   "execution_count": 20,
   "metadata": {},
   "outputs": [],
   "source": [
    "predicted_stock_price = model.predict(X_test)"
   ]
  },
  {
   "cell_type": "code",
   "execution_count": 21,
   "metadata": {},
   "outputs": [],
   "source": [
    "predicted_stock_price = sc.inverse_transform(predicted_stock_price)"
   ]
  },
  {
   "cell_type": "code",
   "execution_count": 22,
   "metadata": {},
   "outputs": [
    {
     "data": {
      "image/png": "[encoded data removed]",
      "text/plain": [
       "<Figure size 432x288 with 1 Axes>"
      ]
     },
     "metadata": {
      "needs_background": "light"
     },
     "output_type": "display_data"
    }
   ],
   "source": [
    "plt.plot(real_stock_price, color = 'black', label = 'TATA Stock Price')\n",
    "plt.plot(predicted_stock_price, color = 'green', label = 'Predicted TATA Stock Price')\n",
    "plt.title('TATA Stock Price Prediction')\n",
    "plt.xlabel('Time')\n",
    "plt.ylabel('TATA Stock Price')\n",
    "plt.legend()\n",
    "plt.show()"
   ]
  },
  {
   "cell_type": "code",
   "execution_count": null,
   "metadata": {},
   "outputs": [],
   "source": []
  }
 ],
 "metadata": {
  "kernelspec": {
   "display_name": "Python 3",
   "language": "python",
   "name": "python3"
  },
  "language_info": {
   "codemirror_mode": {
    "name": "ipython",
    "version": 3
   },
   "file_extension": ".py",
   "mimetype": "text/x-python",
   "name": "python",
   "nbconvert_exporter": "python",
   "pygments_lexer": "ipython3",
   "version": "3.7.4"
  },
  "pycharm": {
   "stem_cell": {
    "cell_type": "raw",
    "metadata": {
     "collapsed": false
    },
    "source": []
   }
  }
 },
 "nbformat": 4,
 "nbformat_minor": 1
}
